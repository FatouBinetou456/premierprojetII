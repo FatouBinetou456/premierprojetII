{
 "cells": [
  {
   "cell_type": "code",
   "execution_count": null,
   "id": "25efff9e",
   "metadata": {},
   "outputs": [],
   "source": [
    "class Point:\n",
    "    def __init__(self,x,y):\n",
    "        self.x=x\n",
    "        self.y=y\n",
    "        x=0\n",
    "        y=0\n",
    "    def getx(self):\n",
    "        return x\n",
    "    def gety(self):\n",
    "        return y\n",
    "    def distance_from_xy (self):\n",
    "        "
   ]
  }
 ],
 "metadata": {
  "kernelspec": {
   "display_name": "Python 3",
   "language": "python",
   "name": "python3"
  },
  "language_info": {
   "codemirror_mode": {
    "name": "ipython",
    "version": 3
   },
   "file_extension": ".py",
   "mimetype": "text/x-python",
   "name": "python",
   "nbconvert_exporter": "python",
   "pygments_lexer": "ipython3",
   "version": "3.8.8"
  }
 },
 "nbformat": 4,
 "nbformat_minor": 5
}
